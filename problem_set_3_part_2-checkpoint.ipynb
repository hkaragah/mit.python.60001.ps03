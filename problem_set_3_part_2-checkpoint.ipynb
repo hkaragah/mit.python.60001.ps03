
test unit added
issue for reading uppercase fixed by converting to lowercase

